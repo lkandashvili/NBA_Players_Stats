{
 "cells": [
  {
   "cell_type": "markdown",
   "id": "8ec637d7",
   "metadata": {},
   "source": [
    "# ლექცია 13. \n",
    "რეგრესია. გადაწყვეტილების ხე. გადაწყვეტილების ხის შედეგების ანალიზი და ამხს-\n",
    "ნელობითი ძალის შეფასება. მრავალი გადაწყვეტილების ხე."
   ]
  },
  {
   "cell_type": "code",
   "execution_count": null,
   "id": "197f9e2f",
   "metadata": {},
   "outputs": [],
   "source": [
    "import numpy as np \n",
    "import pandas as pd \n",
    "import matplotlib.pyplot as plt "
   ]
  },
  {
   "cell_type": "code",
   "execution_count": null,
   "id": "18a59374",
   "metadata": {},
   "outputs": [],
   "source": [
    "# import dataset (Profit to Production Cost)\n",
    "# dataset = pd.read_csv('Data.csv') \n",
    "# alternatively open up .csv file to read data  \n",
    "\n",
    "dataset = np.array( \n",
    "[['Asset Flip', 100, 1000], \n",
    "['Text Based', 500, 3000], \n",
    "['Visual Novel', 1500, 5000], \n",
    "['2D Pixel Art', 3500, 8000], \n",
    "['2D Vector Art', 5000, 6500], \n",
    "['Strategy', 6000, 7000], \n",
    "['First Person Shooter', 8000, 15000], \n",
    "['Simulator', 9500, 20000], \n",
    "['Racing', 12000, 21000], \n",
    "['RPG', 14000, 25000], \n",
    "['Sandbox', 15500, 27000], \n",
    "['Open-World', 16500, 30000], \n",
    "['MMOFPS', 25000, 52000], \n",
    "['MMORPG', 30000, 80000] \n",
    "]) \n",
    "\n",
    "\n",
    "print(dataset) \n"
   ]
  },
  {
   "cell_type": "code",
   "execution_count": null,
   "id": "243d2743",
   "metadata": {},
   "outputs": [],
   "source": [
    "# select all rows by : and column 1 \n",
    "# by 1:2 representing features \n"
   ]
  },
  {
   "cell_type": "code",
   "execution_count": null,
   "id": "91ea6e2b",
   "metadata": {},
   "outputs": [],
   "source": [
    "# select all rows by : and column 2 \n",
    "# by 2 to Y representing labels \n",
    "\n"
   ]
  },
  {
   "cell_type": "code",
   "execution_count": null,
   "id": "b3a5113f",
   "metadata": {},
   "outputs": [],
   "source": [
    "# import the regressor \n",
    "from sklearn.tree import DecisionTreeRegressor \n",
    "\n",
    "# create a regressor object \n",
    "# regressor = DecisionTreeRegressor(random_state = 0) \n",
    "\n",
    "\n",
    "\n",
    "\n",
    "# fit the regressor with X and Y data \n",
    "\n"
   ]
  },
  {
   "cell_type": "code",
   "execution_count": null,
   "id": "fc4c6fbe",
   "metadata": {},
   "outputs": [],
   "source": [
    "# predicting a new value \n",
    "\n",
    "# test the output by changing values, like 3750 \n",
    "\n",
    "\n",
    "# print the predicted price \n",
    "\n"
   ]
  },
  {
   "cell_type": "code",
   "execution_count": null,
   "id": "d8b69605",
   "metadata": {},
   "outputs": [],
   "source": [
    "# arange for creating a range of values  from min value of X to max value of X  \n",
    "# with a difference of 0.01 between two \n",
    "# consecutive values \n",
    "X_grid = np.arange(min(X), max(X), 0.01) \n",
    "\n",
    "# reshape for reshaping the data into \n",
    "# a len(X_grid)*1 array, i.e. to make \n",
    "# a column out of the X_grid values \n",
    "X_grid = X_grid.reshape((len(X_grid), 1)) \n",
    "\n",
    "# scatter plot for original data \n",
    "plt.scatter(X, y, color = 'red') \n",
    "\n",
    "# plot predicted data \n",
    "plt.plot(X_grid, regressor.predict(X_grid), color = 'blue') \n",
    "\n",
    "# specify title \n",
    "plt.title('Profit to Production Cost (Decision Tree Regression)') \n",
    "\n",
    "# specify X axis label \n",
    "plt.xlabel('Production Cost') \n",
    "\n",
    "# specify Y axis label \n",
    "plt.ylabel('Profit') \n",
    "\n",
    "# show the plot \n",
    "plt.show() \n"
   ]
  },
  {
   "cell_type": "code",
   "execution_count": null,
   "id": "fb11b860",
   "metadata": {},
   "outputs": [],
   "source": [
    "# import export_graphviz \n",
    "from sklearn.tree import export_graphviz, plot_tree\n",
    "\n",
    "# export the decision tree to a tree.dot file \n",
    "# for visualizing the plot easily anywhere \n",
    "export_graphviz(regressor, out_file ='tree.dot', feature_names =['Production Cost']) \n",
    "\n",
    "# The tree is finally exported and shown in the TREE STRUCTURE below, \n",
    "# visualized using http://www.webgraphviz.com/ by copying the data from the ‘tree.dot’ file.\n",
    "plt.figure(figsize=(10,8), dpi=150)\n",
    "plot_tree(regressor, feature_names=X)"
   ]
  },
  {
   "cell_type": "markdown",
   "id": "b0199d8f",
   "metadata": {},
   "source": [
    "## Exercise 2"
   ]
  },
  {
   "cell_type": "code",
   "execution_count": null,
   "id": "3858198e",
   "metadata": {},
   "outputs": [],
   "source": [
    "# Import the necessary modules and libraries\n",
    "import matplotlib.pyplot as plt\n",
    "import numpy as np\n",
    "\n",
    "from sklearn.tree import DecisionTreeRegressor"
   ]
  },
  {
   "cell_type": "code",
   "execution_count": null,
   "id": "b17253b1",
   "metadata": {},
   "outputs": [],
   "source": [
    "# Create a random dataset\n",
    "rng = np.random.RandomState(1)\n",
    "X = np.sort(5 * rng.rand(80, 1), axis=0)\n",
    "y = np.sin(X).ravel()\n",
    "y[::5] += 3 * (0.5 - rng.rand(16))\n"
   ]
  },
  {
   "cell_type": "code",
   "execution_count": null,
   "id": "bc55d686",
   "metadata": {},
   "outputs": [],
   "source": [
    "# Fit regression model\n",
    "regr_1 = DecisionTreeRegressor(max_depth=2)\n",
    "regr_2 = DecisionTreeRegressor(max_depth=5)\n",
    "regr_1.fit(X, y)\n",
    "regr_2.fit(X, y)"
   ]
  },
  {
   "cell_type": "code",
   "execution_count": null,
   "id": "5198fc05",
   "metadata": {},
   "outputs": [],
   "source": [
    "\n",
    "\n",
    "# Predict\n",
    "X_test = np.arange(0.0, 5.0, 0.01)[:, np.newaxis]\n",
    "y_1 = regr_1.predict(X_test)\n",
    "y_2 = regr_2.predict(X_test) "
   ]
  },
  {
   "cell_type": "code",
   "execution_count": null,
   "id": "4d462164",
   "metadata": {},
   "outputs": [],
   "source": [
    "# Plot the results\n",
    "plt.figure()\n",
    "plt.scatter(X, y, s=20, edgecolor=\"black\", c=\"darkorange\", label=\"data\")\n",
    "plt.plot(X_test, y_1, color=\"cornflowerblue\", label=\"max_depth=2\", linewidth=2)\n",
    "plt.plot(X_test, y_2, color=\"yellowgreen\", label=\"max_depth=5\", linewidth=2)\n",
    "plt.xlabel(\"data\")\n",
    "plt.ylabel(\"target\")\n",
    "plt.title(\"Decision Tree Regression\")\n",
    "plt.legend()\n",
    "plt.show()"
   ]
  },
  {
   "cell_type": "markdown",
   "id": "060f51af",
   "metadata": {},
   "source": [
    "## Ex. 3\n",
    "We will try and predict gas consumptions (in millions of gallons) in 48 US states based upon gas tax (in cents), per capita income (dollars), paved highways (in miles) and the proportion of population with a drivers license.\n",
    "\n"
   ]
  },
  {
   "cell_type": "code",
   "execution_count": null,
   "id": "c35043be",
   "metadata": {},
   "outputs": [],
   "source": [
    "# Importing the libraries\n",
    "import numpy as np # for array operations\n",
    "import pandas as pd # for working with DataFrames\n",
    "import matplotlib.pyplot as plt # for data visualization\n",
    "%matplotlib inline\n",
    "\n"
   ]
  },
  {
   "cell_type": "code",
   "execution_count": null,
   "id": "48813c8e",
   "metadata": {},
   "outputs": [],
   "source": [
    "# Reading the data \n",
    "dataset = pd.read_csv(\"petrol_consumption.csv\")\n",
    "dataset.head()"
   ]
  },
  {
   "cell_type": "code",
   "execution_count": null,
   "id": "a4494a93",
   "metadata": {},
   "outputs": [],
   "source": []
  },
  {
   "cell_type": "code",
   "execution_count": null,
   "id": "b15d71c2",
   "metadata": {},
   "outputs": [],
   "source": [
    "#Separating the features and the target variable\n"
   ]
  },
  {
   "cell_type": "code",
   "execution_count": null,
   "id": "10b55eea",
   "metadata": {},
   "outputs": [],
   "source": [
    "# scikit-learn modules\n",
    "from sklearn.model_selection import train_test_split # for splitting the data\n",
    "\n",
    "# Splitting the dataset into training and testing set (80/20)\n"
   ]
  },
  {
   "cell_type": "code",
   "execution_count": null,
   "id": "4b43ab2c",
   "metadata": {},
   "outputs": [],
   "source": [
    "from sklearn.tree import DecisionTreeRegressor # for building the model\n",
    "# Initializing the Decision Tree Regression model\n",
    "\n",
    "\n",
    "\n",
    "# Fitting the Decision Tree Regression model to the data\n",
    "\n"
   ]
  },
  {
   "cell_type": "code",
   "execution_count": null,
   "id": "e981bb41",
   "metadata": {},
   "outputs": [],
   "source": [
    "from sklearn.metrics import mean_squared_error # for calculating the cost function\n",
    "# Predicting the target values of the test set\n",
    "\n",
    "\n",
    "\n",
    "\n",
    "# RMSE (Root Mean Square Error)\n"
   ]
  },
  {
   "cell_type": "code",
   "execution_count": null,
   "id": "cd9447e0",
   "metadata": {},
   "outputs": [],
   "source": []
  },
  {
   "cell_type": "code",
   "execution_count": null,
   "id": "df0e0752",
   "metadata": {},
   "outputs": [],
   "source": [
    "from sklearn.tree import export_graphviz  \n",
    "\n",
    "# export the decision tree model to a tree_structure.dot file \n",
    "# paste the contents of the file to webgraphviz.com\n",
    "export_graphviz(regressor, out_file ='tree_structure.dot', \n",
    "               feature_names =['Petrol_tax', 'Average_income', 'Paved_Highways', 'Population_Driver_licence(%)'])"
   ]
  },
  {
   "cell_type": "markdown",
   "id": "ff583b16",
   "metadata": {},
   "source": [
    "# Ex. 4\n",
    "The possum dataset contains data about 104 possums:\n",
    "\n",
    "sex,\n",
    "age,\n",
    "head length,\n",
    "skull width,\n",
    "etc.\n",
    "We’ll create a regression tree to predict the age of possums based on certain characteristics of the animals.\n",
    "\n",
    "https://www.kaggle.com/datasets/abrambeyer/openintro-possum/"
   ]
  },
  {
   "cell_type": "code",
   "execution_count": null,
   "id": "48565f63",
   "metadata": {},
   "outputs": [],
   "source": [
    "import pandas as pd\n",
    "import matplotlib.pyplot as plt"
   ]
  },
  {
   "cell_type": "code",
   "execution_count": null,
   "id": "d719bbdf",
   "metadata": {},
   "outputs": [],
   "source": [
    "df = pd.read_csv(\"possum.csv\")\n",
    "df.head()"
   ]
  },
  {
   "cell_type": "code",
   "execution_count": null,
   "id": "815b688e",
   "metadata": {},
   "outputs": [],
   "source": []
  },
  {
   "cell_type": "code",
   "execution_count": null,
   "id": "24e8010b",
   "metadata": {},
   "outputs": [],
   "source": []
  },
  {
   "cell_type": "code",
   "execution_count": null,
   "id": "2e727c45",
   "metadata": {},
   "outputs": [],
   "source": []
  },
  {
   "cell_type": "code",
   "execution_count": null,
   "id": "0064af76",
   "metadata": {},
   "outputs": [],
   "source": []
  },
  {
   "cell_type": "code",
   "execution_count": null,
   "id": "4e3b6cf0",
   "metadata": {},
   "outputs": [],
   "source": []
  },
  {
   "cell_type": "code",
   "execution_count": null,
   "id": "99c4c572",
   "metadata": {},
   "outputs": [],
   "source": []
  },
  {
   "cell_type": "code",
   "execution_count": null,
   "id": "7826f32a",
   "metadata": {},
   "outputs": [],
   "source": []
  },
  {
   "cell_type": "code",
   "execution_count": null,
   "id": "6e8a5034",
   "metadata": {},
   "outputs": [],
   "source": []
  },
  {
   "cell_type": "code",
   "execution_count": null,
   "id": "4d8df9e8",
   "metadata": {},
   "outputs": [],
   "source": []
  },
  {
   "cell_type": "code",
   "execution_count": null,
   "id": "caefc794",
   "metadata": {},
   "outputs": [],
   "source": []
  },
  {
   "cell_type": "code",
   "execution_count": null,
   "id": "633151f5",
   "metadata": {},
   "outputs": [],
   "source": []
  },
  {
   "cell_type": "code",
   "execution_count": null,
   "id": "6d5a0960",
   "metadata": {
    "scrolled": true
   },
   "outputs": [],
   "source": []
  },
  {
   "cell_type": "code",
   "execution_count": null,
   "id": "b7572259",
   "metadata": {},
   "outputs": [],
   "source": []
  },
  {
   "cell_type": "code",
   "execution_count": null,
   "id": "44907361",
   "metadata": {},
   "outputs": [],
   "source": []
  }
 ],
 "metadata": {
  "kernelspec": {
   "display_name": "Python 3 (ipykernel)",
   "language": "python",
   "name": "python3"
  },
  "language_info": {
   "codemirror_mode": {
    "name": "ipython",
    "version": 3
   },
   "file_extension": ".py",
   "mimetype": "text/x-python",
   "name": "python",
   "nbconvert_exporter": "python",
   "pygments_lexer": "ipython3",
   "version": "3.10.9"
  }
 },
 "nbformat": 4,
 "nbformat_minor": 5
}
