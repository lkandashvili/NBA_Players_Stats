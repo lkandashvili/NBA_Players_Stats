{
 "cells": [
  {
   "cell_type": "markdown",
   "id": "c6038cd0",
   "metadata": {},
   "source": [
    "# Data Cleaning in Pandas"
   ]
  },
  {
   "cell_type": "code",
   "execution_count": null,
   "id": "9d8c99e2",
   "metadata": {},
   "outputs": [],
   "source": [
    "import pandas as pd"
   ]
  },
  {
   "cell_type": "code",
   "execution_count": null,
   "id": "1996c91f",
   "metadata": {},
   "outputs": [],
   "source": [
    "df = pd.read_excel(\"Customer Call List.xlsx\")\n",
    "df"
   ]
  },
  {
   "cell_type": "markdown",
   "id": "10e987d7",
   "metadata": {},
   "source": [
    "### drop_duplicates() Function\n",
    "Return DataFrame with duplicate rows removed.\n"
   ]
  },
  {
   "cell_type": "code",
   "execution_count": null,
   "id": "f1a5ed17",
   "metadata": {},
   "outputs": [],
   "source": []
  },
  {
   "cell_type": "markdown",
   "id": "01d6b4b4",
   "metadata": {},
   "source": [
    "### drop() Function\n",
    "Drop specified labels from rows or columns.\n",
    "\n",
    "Remove rows or columns by specifying label names and corresponding axis, or by directly specifying index or column names. When using a multi-index, labels on different levels can be removed by specifying the level. See the user guide for more information about the now unused levels."
   ]
  },
  {
   "cell_type": "code",
   "execution_count": null,
   "id": "66259ab9",
   "metadata": {},
   "outputs": [],
   "source": []
  },
  {
   "cell_type": "markdown",
   "id": "888df0fe",
   "metadata": {},
   "source": [
    "### str.strip(characters)\n",
    "The strip() method removes any leading (beginning), and trailing(ending) whitespaces.\n",
    "\n",
    "You can specify which character(s) to remove, if not, any whitespaces will be removed."
   ]
  },
  {
   "cell_type": "code",
   "execution_count": null,
   "id": "f53bd5d3",
   "metadata": {},
   "outputs": [],
   "source": []
  },
  {
   "cell_type": "code",
   "execution_count": null,
   "id": "e89a398d",
   "metadata": {},
   "outputs": [],
   "source": []
  },
  {
   "cell_type": "markdown",
   "id": "5a35f783",
   "metadata": {},
   "source": [
    "### DataFrame.apply() function\n",
    "Pandas DataFrame apply() function is used to apply a function along an axis of the DataFrame. The function syntax is:\n",
    "\n",
    "def apply(func, axis=0, broadcast=None, raw=False, reduce=None, result_type=None, args=(), **kwds)\n",
    "\n",
    "\n",
    "func: The function to apply to each row or column of the DataFrame.\n",
    "axis: axis along which the function is applied. The possible values are {0 or ‘index’, 1 or ‘columns’}, default 0.\n",
    "args: The positional arguments to pass to the function. This is helpful when we have to pass additional arguments to the function.\n",
    "kwargs: additional keyword arguments to pass to the function. This is helpful when we have to pass additional keyword arguments to the function.\n",
    "\n"
   ]
  },
  {
   "cell_type": "code",
   "execution_count": null,
   "id": "c320ff2b",
   "metadata": {},
   "outputs": [],
   "source": [
    "df_new = pd.DataFrame({'A': [1, 2], 'B': [10, 20]})\n",
    "\n",
    "def square(x):\n",
    "    return x * x\n",
    "\n",
    "\n",
    "df1 = df_new.apply(square)\n",
    "\n",
    "print(df_new)\n",
    "print(df1)"
   ]
  },
  {
   "cell_type": "code",
   "execution_count": null,
   "id": "e65fe734",
   "metadata": {
    "scrolled": true
   },
   "outputs": [],
   "source": []
  },
  {
   "cell_type": "code",
   "execution_count": null,
   "id": "c9cdb66a",
   "metadata": {},
   "outputs": [],
   "source": []
  },
  {
   "cell_type": "code",
   "execution_count": null,
   "id": "8c55b8ab",
   "metadata": {},
   "outputs": [],
   "source": []
  },
  {
   "cell_type": "markdown",
   "id": "f547f3a9",
   "metadata": {},
   "source": [
    "### DataFrame.fillna()\n",
    "Fill NA/NaN values using the specified method."
   ]
  },
  {
   "cell_type": "code",
   "execution_count": null,
   "id": "5f1f693c",
   "metadata": {},
   "outputs": [],
   "source": [
    "\n"
   ]
  },
  {
   "cell_type": "code",
   "execution_count": null,
   "id": "2785de92",
   "metadata": {
    "scrolled": true
   },
   "outputs": [],
   "source": []
  },
  {
   "cell_type": "code",
   "execution_count": null,
   "id": "e6abe261",
   "metadata": {},
   "outputs": [],
   "source": []
  },
  {
   "cell_type": "code",
   "execution_count": null,
   "id": "552ef68e",
   "metadata": {},
   "outputs": [],
   "source": []
  },
  {
   "cell_type": "code",
   "execution_count": null,
   "id": "0a5decd2",
   "metadata": {},
   "outputs": [],
   "source": []
  }
 ],
 "metadata": {
  "kernelspec": {
   "display_name": "Python 3 (ipykernel)",
   "language": "python",
   "name": "python3"
  },
  "language_info": {
   "codemirror_mode": {
    "name": "ipython",
    "version": 3
   },
   "file_extension": ".py",
   "mimetype": "text/x-python",
   "name": "python",
   "nbconvert_exporter": "python",
   "pygments_lexer": "ipython3",
   "version": "3.10.9"
  }
 },
 "nbformat": 4,
 "nbformat_minor": 5
}
