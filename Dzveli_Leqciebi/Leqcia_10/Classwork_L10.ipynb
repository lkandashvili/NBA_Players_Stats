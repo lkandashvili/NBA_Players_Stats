{
 "cells": [
  {
   "cell_type": "markdown",
   "id": "a867c0f6",
   "metadata": {},
   "source": [
    "# ლექცია 10. მონაცემების ვიზუალიზაცია\n",
    "\n",
    "\n",
    "ხაზოვანი დიაგრამა\n",
    "\n",
    "სვეტოვანი დიაგრამა\n",
    "\n",
    "გაფანტულობის დიაგრამა\n",
    "\n",
    "ჰისტოგრამა\n",
    "\n",
    "ანსკომბეს ოთხეული\n",
    "\n",
    "მონაცემების ინტერაქტიული ვიზუალიზაცია"
   ]
  },
  {
   "cell_type": "markdown",
   "id": "19468c3d",
   "metadata": {
    "slideshow": {
     "slide_type": "-"
    }
   },
   "source": [
    "# Matplotlib\n",
    "## Introduction\n",
    "\n",
    "Matplotlib is a library for producing publication-quality figures. mpl (for short) was designed from the beginning to serve two purposes: \n",
    "\n",
    " 1. allow for interactive, cross-platform control of figures and plots\n",
    " 2. make it easy to produce static raster or vector graphics files without the need for any GUIs. \n",
    " \n",
    "Furthermore, mpl -- much like Python itself -- gives the developer complete control over the appearance of their plots, while still being very usable through a powerful defaults system."
   ]
  },
  {
   "cell_type": "markdown",
   "id": "89772277",
   "metadata": {},
   "source": [
    "## Online Documentation\n",
    "The [matplotlib.org](http://matplotlib.org) project website is the primary online resource for the library's documentation. It contains the [example galleries](https://matplotlib.org/gallery/index.html), [FAQs](http://matplotlib.org/faq/index.html), [API documentation](http://matplotlib.org/api/index.html), and [tutorials](https://matplotlib.org/tutorials/index.html).\n",
    "\n",
    "\n",
    "\n",
    "## Github repository\n",
    "[Matplotlib](https://github.com/matplotlib) is hosted by GitHub."
   ]
  },
  {
   "cell_type": "markdown",
   "id": "8ba83ae3",
   "metadata": {},
   "source": [
    "## Anatomy of a \"Plot\"\n",
    "\n",
    "People use \"plot\" to mean many different things.  Here, we'll be using a consistent terminology (mirrored by the names of the underlying classes, etc):\n",
    "\n",
    "<img src=\"images/figure_axes_axis_labeled.png\">\n",
    "\n",
    "The ``Figure`` is the top-level container in this hierarchy.  It is the overall window/page that everything is drawn on.  You can have multiple independent figures and ``Figure``s can contain multiple ``Axes``. \n",
    "\n",
    "Most plotting ocurs on an ``Axes``.  The axes is effectively the area that we plot data on and any ticks/labels/etc associated with it.  Usually we'll set up an Axes with a call to ``subplot`` (which places Axes on a regular grid), so in most cases, ``Axes`` and ``Subplot`` are synonymous.\n",
    "\n",
    "Each ``Axes`` has an ``XAxis`` and a ``YAxis``.  These contain the ticks, tick locations, labels, etc.  In this tutorial, we'll mostly control ticks, tick labels, and data limits through other mechanisms, so we won't touch the individual ``Axis`` part of things all that much.  However, it is worth mentioning here to explain where the term ``Axes`` comes from.\n"
   ]
  },
  {
   "cell_type": "markdown",
   "id": "3d853288",
   "metadata": {},
   "source": [
    "## Getting Started\n",
    "\n",
    "In this tutorial, we'll use the following import statements. These abbreviations are semi-standardized, and most tutorials, other scientific python code that you'll find elsewhere will use them as well."
   ]
  },
  {
   "cell_type": "code",
   "execution_count": null,
   "id": "fa346f1c",
   "metadata": {},
   "outputs": [],
   "source": [
    "import numpy as np\n",
    "import matplotlib.pyplot as plt"
   ]
  },
  {
   "cell_type": "markdown",
   "id": "ed41b171",
   "metadata": {},
   "source": [
    "### Figures\n",
    "\n",
    "The simplest way of creating a Figure with an Axes is using pyplot.subplots. We can then use Axes.plot to draw some data on the Axes:"
   ]
  },
  {
   "cell_type": "markdown",
   "id": "72af08a9",
   "metadata": {},
   "source": [
    "# Parts of a Figure\n",
    "Here are the components of a Matplotlib Figure.\n",
    "<img src=\"images/anatomy.png\" width=600> "
   ]
  },
  {
   "cell_type": "markdown",
   "id": "4bbadce1",
   "metadata": {},
   "source": [
    "The Figure keeps track of all the child Axes, a group of 'special' Artists (titles, figure legends, colorbars, etc), and even nested subfigures.\n",
    "\n",
    "The easiest way to create a new Figure is with pyplot:"
   ]
  },
  {
   "cell_type": "code",
   "execution_count": null,
   "id": "4f2debc3",
   "metadata": {},
   "outputs": [],
   "source": [
    "fig = plt.figure()  # an empty figure with no Axes\n",
    "fig, ax = plt.subplots()  # a figure with a single Axes\n",
    "ax.plot([1, 2, 3, 4], [1, 4, 2, 3])  # Plot some data on the axes.\n",
    "# fig, axs = plt.subplots(2, 2)  # a figure with a 2x2 grid of Axes\n",
    "plt.show()"
   ]
  },
  {
   "cell_type": "markdown",
   "id": "cddc6df9",
   "metadata": {},
   "source": [
    "# Axes\n",
    "\n",
    "All plotting is done with respect to an [`Axes`](http://matplotlib.org/api/axes_api.html#matplotlib.axes.Axes). An *Axes* is made up of [`Axis`](http://matplotlib.org/api/axis_api.html#matplotlib.axis.Axis) objects and many other things. An *Axes* object must belong to a *Figure* (and only one *Figure*). Most commands you will ever issue will be with respect to this *Axes* object.\n",
    "\n",
    "Typically, you'll set up a `Figure`, and then add an `Axes` to it. \n",
    "\n",
    "You can use `fig.add_axes`, but in most cases, you'll find that adding a subplot will fit your needs perfectly. (Again a \"subplot\" is just an axes on a grid system.) "
   ]
  },
  {
   "cell_type": "code",
   "execution_count": null,
   "id": "28d6d1b4",
   "metadata": {},
   "outputs": [],
   "source": [
    "fig = plt.figure()\n",
    "ax = fig.add_subplot(111) # 1 row and 1 column.\n",
    "ax.plot([1, 2, 3, 4], [1, 4, 2, 3])\n",
    "\n",
    "ax.set(xlim=[0.5, 4.5], ylim=[-2, 8], title='An Example Axes',\n",
    "       ylabel='Y-Axis', xlabel='X-Axis')\n",
    "\n",
    "plt.show()\n"
   ]
  },
  {
   "cell_type": "markdown",
   "id": "eafa2fca",
   "metadata": {},
   "source": [
    "\n",
    "Notice the call to ``set``. Matplotlib's objects typically have lots of \"explicit setters\" -- in other words, functions that start with ``set_<something>`` and control a particular option. \n",
    "\n",
    "For example, we could have written the third line above as:"
   ]
  },
  {
   "cell_type": "code",
   "execution_count": null,
   "id": "323860cd",
   "metadata": {},
   "outputs": [],
   "source": [
    "fig = plt.figure()\n",
    "ax = fig.add_subplot(111) \n",
    "ax.plot([1, 2, 3, 4], [1, 4, 2, 3])\n",
    "\n",
    "ax.set_xlim([0.5, 4.5])\n",
    "ax.set_ylim([-2, 8])\n",
    "ax.set_title('A Different Example Axes Title')\n",
    "ax.set_ylabel('Y-Axis (changed)')\n",
    "ax.set_xlabel('X-Axis (changed)')\n",
    "\n",
    "plt.show()"
   ]
  },
  {
   "cell_type": "markdown",
   "id": "25c89462",
   "metadata": {},
   "source": [
    "Clearly this can get repitive quickly.  Therefore, Matplotlib's `set` method can be very handy.  It takes each kwarg you pass it and tries to call the corresponding \"setter\".  For example, `foo.set(bar='blah')` would call `foo.set_bar('blah')`."
   ]
  },
  {
   "cell_type": "markdown",
   "id": "42701e25",
   "metadata": {},
   "source": [
    "\n",
    "\n",
    "# Colors\n",
    "\n",
    "### Colornames\n",
    "First, colors can be given as strings. For very basic colors, you can even get away with just a single letter:\n",
    "\n",
    "- b: blue\n",
    "- g: green\n",
    "- r: red\n",
    "- c: cyan\n",
    "- m: magenta\n",
    "- y: yellow\n",
    "- k: black\n",
    "- w: white\n",
    "\n",
    "\n",
    "### Hex values\n",
    "Colors can also be specified by supplying a HTML/CSS hex string, such as `'#0000FF'` for blue. Support for an optional alpha channel was added for v2.0."
   ]
  },
  {
   "cell_type": "markdown",
   "id": "d1321423",
   "metadata": {},
   "source": [
    "# Markers\n",
    "[Markers](http://matplotlib.org/api/markers_api.html) are commonly used in [`plot()`](http://matplotlib.org/api/pyplot_api.html#matplotlib.pyplot.plot) and [`scatter()`](http://matplotlib.org/api/pyplot_api.html#matplotlib.pyplot.scatter) plots, but also show up elsewhere. There is a wide set of markers available, and custom markers can even be specified.\n",
    "\n",
    "marker     |  description  | marker    |  description    | marker   |  description  | marker    |  description  \n",
    ":----------|:--------------|:----------|:----------------|:---------|:--------------|:----------|:--------------\n",
    "\".\"        |  point        | \"+\"       |  plus           | \",\"      |  pixel        | \"x\"       |  cross\n",
    "\"o\"        |  circle       | \"D\"       |  diamond        | \"d\"      |  thin_diamond |           |\n",
    "\"8\"        |  octagon      | \"s\"       |  square         | \"p\"      |  pentagon     | \"\\*\"      |  star\n",
    "\"&#124;\"   |  vertical line| \"\\_\"      | horizontal line |  \"h\"     |  hexagon1     | \"H\"       |  hexagon2\n",
    "0          |  tickleft     | 4         |  caretleft      | \"<\"      | triangle_left | \"3\"       |  tri_left\n",
    "1          |  tickright    | 5         |  caretright     | \">\"      | triangle_right| \"4\"       |  tri_right\n",
    "2          |  tickup       | 6         |  caretup        | \"^\"      | triangle_up   | \"2\"       |  tri_up\n",
    "3          |  tickdown     | 7         |  caretdown      | \"v\"      | triangle_down | \"1\"       |  tri_down\n",
    "\"None\"     |  nothing      | `None`    |  default        | \" \"      |  nothing      | \"\"        |  nothing"
   ]
  },
  {
   "cell_type": "markdown",
   "id": "e0c13071",
   "metadata": {},
   "source": [
    "# Linestyles\n",
    "Line styles are about as commonly used as colors. There are a few predefined linestyles available to use. Note that there are some advanced techniques to specify some custom line styles. [Here](http://matplotlib.org/1.3.0/examples/lines_bars_and_markers/line_demo_dash_control.html) is an example of a custom dash pattern.\n",
    "\n",
    "linestyle          | description\n",
    "-------------------|------------------------------\n",
    "'-'                | solid\n",
    "'--'               | dashed\n",
    "'-.'               | dashdot\n",
    "':'                | dotted\n",
    "'None'             | draw nothing\n",
    "' '                | draw nothing\n",
    "''                 | draw nothing\n",
    "\n",
    "Also, don't mix up \".-\" (line with dot markers) and \"-.\" (dash-dot line) when using the ``plot`` function!"
   ]
  },
  {
   "cell_type": "markdown",
   "id": "aa36567e",
   "metadata": {},
   "source": [
    "# Types of Plots"
   ]
  },
  {
   "cell_type": "markdown",
   "id": "995b3a9a",
   "metadata": {},
   "source": [
    "# 1. Scatter plots\n",
    "A scatter plot is a diagram where each value in the data set is represented by a dot."
   ]
  },
  {
   "cell_type": "code",
   "execution_count": null,
   "id": "596dfb02",
   "metadata": {},
   "outputs": [],
   "source": [
    "import matplotlib.pyplot as plt\n",
    "import numpy as np\n",
    "\n",
    "# Fixing random state for reproducibility\n",
    "# np.random.seed(19680801)\n",
    "\n",
    "x = np.random.random(50)*100\n",
    "y = np.random.random(50)*100\n",
    "z = np.random.random(50)*100\n",
    "# print(x)\n",
    "plt.scatter(x, y, s=20, marker='^', c='red')\n",
    "plt.scatter(x, z, s=20, marker='*', c='blue')\n",
    "\n",
    "plt.show()"
   ]
  },
  {
   "cell_type": "code",
   "execution_count": null,
   "id": "b3e1537c",
   "metadata": {},
   "outputs": [],
   "source": [
    "x = [5, 7, 8, 7, 2, 17, 2, 9, 4, 11, 12, 9, 6]\n",
    "y = [99, 86, 87, 88, 111, 86, 103, 87, 94, 78, 77, 85, 86]\n",
    "\n",
    "plt.scatter(x, y)\n",
    "plt.show()"
   ]
  },
  {
   "cell_type": "markdown",
   "id": "9ab129c6",
   "metadata": {},
   "source": [
    "# 2. Line plots\n"
   ]
  },
  {
   "cell_type": "code",
   "execution_count": null,
   "id": "abbce3c6",
   "metadata": {},
   "outputs": [],
   "source": [
    "years = [2006 + x for x in range(16)]\n",
    "birth = [67, 74, 82, 87, 56, 43, 65, 68,\n",
    "         80, 84, 80, 90, 65, 56, 77, 65\n",
    "        ]\n",
    "plt.plot(years, birth, 'r--', lw=3)"
   ]
  },
  {
   "cell_type": "code",
   "execution_count": null,
   "id": "17dfaa6c",
   "metadata": {},
   "outputs": [],
   "source": []
  },
  {
   "cell_type": "markdown",
   "id": "683efc08",
   "metadata": {},
   "source": [
    "## Plot customization details"
   ]
  },
  {
   "cell_type": "code",
   "execution_count": null,
   "id": "c0f45a55",
   "metadata": {},
   "outputs": [],
   "source": [
    "import matplotlib.pyplot as plt\n",
    "from importlib import reload\n",
    "plt=reload(plt)\n",
    "years = [2006 + x for x in range(16)]\n",
    "income = [670, 742, 829, 872, 561, 434, 656, 682,\n",
    "         801, 840, 809, 905, 657, 566, 773, 651\n",
    "        ]\n",
    "\n",
    "\n",
    "income_ticks = list(range(400, 1000, 200))\n",
    "plt.plot(years, income, 'g')\n",
    "\n",
    "plt.xlabel('Years')  \n",
    "plt.ylabel('Yearly income')  \n",
    "# plt.xticks(years)\n",
    "plt.yticks(income_ticks, [f'${x}K' for x in income_ticks])\n",
    "  \n",
    "# displaying the title \n",
    "plt.title(\"Income by year\")\n",
    "\n",
    "\n",
    "plt.show() \n",
    "# plt.savefig('income.png')"
   ]
  },
  {
   "cell_type": "code",
   "execution_count": null,
   "id": "52a9a319",
   "metadata": {},
   "outputs": [],
   "source": [
    "t = np.arange(0.0, 5.0, 0.2)\n",
    "plt.plot(t, t,  t, t**2,  t, t**3)\n",
    "plt.show()"
   ]
  },
  {
   "cell_type": "code",
   "execution_count": null,
   "id": "459e1663",
   "metadata": {},
   "outputs": [],
   "source": [
    "t = np.arange(0.0, 5.0, 0.2)\n",
    "plt.plot(t, t, 'g^', t, t**2, 'b--', t, t**3, 'r:')\n",
    "plt.show()"
   ]
  },
  {
   "cell_type": "markdown",
   "id": "1bed316f",
   "metadata": {},
   "source": [
    "## mix of plots\n",
    "\n",
    "Most plotting happens on an `Axes`.  Therefore, if you're plotting something on an axes, then you'll use one of its methods.\n",
    "\n",
    "let's focus on two methods: `plot` and `scatter`.\n",
    "\n",
    "`plot` draws points with lines connecting them.  `scatter` draws unconnected points, optionally scaled or colored by additional variables."
   ]
  },
  {
   "cell_type": "code",
   "execution_count": null,
   "id": "9746975d",
   "metadata": {},
   "outputs": [],
   "source": [
    "fig = plt.figure()\n",
    "ax = fig.add_subplot(111)\n",
    "ax.plot([1, 2, 3, 4], [10, 20, 25, 30], color='lightblue', linewidth=3)\n",
    "ax.scatter([0.3, 3.8, 1.2, 2.5], [11, 25, 9, 26], c=[1, 2, 3, 5], marker='^')\n",
    "ax.set_xlim(0.5, 4.5)\n",
    "plt.show()"
   ]
  },
  {
   "cell_type": "markdown",
   "id": "b4756930",
   "metadata": {},
   "source": [
    "## Axes methods vs. pyplot\n",
    "\n",
    "Interestingly, just about all methods of an *Axes* object exist as a function in the *pyplot* module (and vice-versa). For example, when calling `plt.xlim(1, 10)`, *pyplot* calls `ax.set_xlim(1, 10)` on whichever *Axes* is \"current\". Here is an equivalent version of the above example using just pyplot."
   ]
  },
  {
   "cell_type": "code",
   "execution_count": null,
   "id": "e6f342a4",
   "metadata": {},
   "outputs": [],
   "source": [
    "plt.plot([1, 2, 3, 4], [10, 20, 25, 30], color='lightblue', linewidth=3)\n",
    "plt.scatter([0.3, 3.8, 1.2, 2.5], [11, 25, 9, 26], c=[1, 2, 3, 5], marker='^')\n",
    "plt.xlim(0.5, 4.5)\n",
    "plt.show()"
   ]
  },
  {
   "cell_type": "markdown",
   "id": "1d8227e2",
   "metadata": {},
   "source": [
    "While very simple plots, with short scripts would benefit from the conciseness of the pyplot implicit approach, when doing more complicated plots, or working within larger scripts, you will want to explicitly pass around the *Axes* and/or *Figure* object to operate upon.\n",
    "\n",
    "The advantage of keeping which axes we're working with very clear in our code will become more obvious when we start to have multiple axes in one figure."
   ]
  },
  {
   "cell_type": "markdown",
   "id": "2d674337",
   "metadata": {},
   "source": [
    "### Multiple Axes\n",
    "\n",
    "We've mentioned before that a figure can have more than one `Axes` on it.  If you want your axes to be on a regular grid system, then it's easiest to use `plt.subplots(...)` to create a figure and add the axes to it automatically.\n",
    "\n",
    "For example:"
   ]
  },
  {
   "cell_type": "code",
   "execution_count": null,
   "id": "19bc0c0c",
   "metadata": {},
   "outputs": [],
   "source": [
    "fig, axes = plt.subplots(nrows=2, ncols=2)\n",
    "plt.show()"
   ]
  },
  {
   "cell_type": "markdown",
   "id": "eade955b",
   "metadata": {},
   "source": [
    "`plt.subplots(...)` created a new figure and added 4 subplots to it.  The `axes` object that was returned is a 2D numpy object array.  Each item in the array is one of the subplots.  They're laid out as you see them on the figure.  \n",
    "\n",
    "Therefore, when we want to work with one of these axes, we can index the `axes` array and use that item's methods.\n",
    "\n",
    "For example:"
   ]
  },
  {
   "cell_type": "code",
   "execution_count": null,
   "id": "13ad1a54",
   "metadata": {},
   "outputs": [],
   "source": [
    "fig, axes = plt.subplots(nrows=2, ncols=2)\n",
    "axes[0,0].set(title='Upper Left')\n",
    "axes[0,1].set(title='Upper Right')\n",
    "axes[1,0].set(title='Lower Left')\n",
    "axes[1,1].set(title='Lower Right')\n",
    "\n",
    "# To iterate over all items in a multidimensional numpy array, use the `flat` attribute\n",
    "for ax in axes.flat:\n",
    "    # Remove all xticks and yticks...\n",
    "    ax.set(xticks=[], yticks=[])\n",
    "    \n",
    "plt.show()"
   ]
  },
  {
   "cell_type": "markdown",
   "id": "19f537b8",
   "metadata": {},
   "source": [
    "One really nice thing about `plt.subplots()` is that when it's called with no arguments, it creates a new figure with a single subplot. \n",
    "\n",
    "Any time you see something like\n",
    "\n",
    "```\n",
    "fig = plt.figure()\n",
    "ax = fig.add_subplot(111)\n",
    "```\n",
    "\n",
    "You can replace it with:\n",
    "\n",
    "```\n",
    "fig, ax = plt.subplots()\n",
    "```\n",
    "\n",
    "We'll be using that approach for the rest of the examples.  It's much cleaner.  \n",
    "\n",
    "However, keep in mind that we're still creating a figure and adding axes to it.  When we start making plot layouts that can't be described by `subplots`, we'll go back to creating the figure first and then adding axes to it one-by-one."
   ]
  },
  {
   "cell_type": "markdown",
   "id": "23a25ac3",
   "metadata": {},
   "source": [
    "# 3. Bar plots"
   ]
  },
  {
   "cell_type": "code",
   "execution_count": null,
   "id": "e7371177",
   "metadata": {
    "scrolled": true
   },
   "outputs": [],
   "source": [
    "x = ['Python', 'C++', \"Java\", 'Go', 'PHP']\n",
    "y = [135, 112, 85, 24, 75]\n",
    "plt.bar(x, y, color='r', width=0.5, edgecolor='b', lw=3, ls='--')\n",
    "plt.show()"
   ]
  },
  {
   "cell_type": "code",
   "execution_count": null,
   "id": "d3e7b5d3",
   "metadata": {},
   "outputs": [],
   "source": [
    "np.random.seed(1)\n",
    "x = np.arange(5)\n",
    "y = np.random.randn(5)\n",
    "x = ['Python', 'C++', \"Java\", 'Go', 'PHP']\n",
    "y = [135, 112, 85, 24, 75]\n",
    "# y = [5, -3, 12, 2, -1]\n",
    "# \n",
    "fig, axes = plt.subplots(ncols=2, figsize=plt.figaspect(1/2))\n",
    "# fig, axes = plt.subplots(ncols=2, figsize=(10,8))\n",
    "\n",
    "vert_bars = axes[0].bar(x, y, color='lightblue', align='center')\n",
    "horiz_bars = axes[1].barh(x, y, color='lightblue', align='center')\n",
    "\n",
    "axes[0].axhline(0, color='gray', linewidth=2)\n",
    "axes[1].axvline(0, color='gray', linewidth=2)\n",
    "\n",
    "plt.show()"
   ]
  },
  {
   "cell_type": "markdown",
   "id": "d650b5e2",
   "metadata": {},
   "source": [
    "# 4. histograms"
   ]
  },
  {
   "cell_type": "code",
   "execution_count": null,
   "id": "d8c889d3",
   "metadata": {},
   "outputs": [],
   "source": [
    "ages = np.random.normal(25, 5, 1000)\n",
    "plt.hist(ages, bins=15)\n",
    "plt.xticks(np.arange(0,45, 5))\n",
    "plt.show()"
   ]
  },
  {
   "cell_type": "markdown",
   "id": "13c84b6e",
   "metadata": {},
   "source": [
    "# 5. pie chart"
   ]
  },
  {
   "cell_type": "code",
   "execution_count": null,
   "id": "1065fdde",
   "metadata": {},
   "outputs": [],
   "source": [
    "languages = ['Python', 'C++', \"Java\", 'Go', 'PHP']\n",
    "votes = [135, 112, 85, 24, 75]\n",
    "explode = [0.1, 0, 0, 0, 0]\n",
    "plt.pie(votes, labels=languages, autopct='%0.f%%', explode=explode)\n",
    "plt.show()"
   ]
  },
  {
   "cell_type": "markdown",
   "id": "94c591d7",
   "metadata": {},
   "source": [
    "# 6. box plot"
   ]
  },
  {
   "cell_type": "code",
   "execution_count": null,
   "id": "ce64311b",
   "metadata": {},
   "outputs": [],
   "source": [
    "ages = np.random.normal(25, 15, 1000)\n",
    "plt.boxplot(ages)\n",
    "plt.show()"
   ]
  },
  {
   "cell_type": "markdown",
   "id": "7202ec39",
   "metadata": {},
   "source": [
    "# # ანსკომბეს ოთხეული - Anscombe's quartet in Python\n",
    "The Anscombe dataset can be loaded from seaborn using the load_dataset() package. We'll call up pandas as well and check out the dataset:"
   ]
  },
  {
   "cell_type": "code",
   "execution_count": null,
   "id": "c24895b6",
   "metadata": {},
   "outputs": [],
   "source": [
    "import seaborn as sns\n",
    "import pandas as pd\n",
    "anscombe = sns.load_dataset('anscombe')\n",
    "anscombe.head()"
   ]
  },
  {
   "cell_type": "code",
   "execution_count": null,
   "id": "383e271a",
   "metadata": {},
   "outputs": [],
   "source": [
    "anscombe.shape"
   ]
  },
  {
   "cell_type": "markdown",
   "id": "e08f2c14",
   "metadata": {},
   "source": [
    "The crux of Anscombe's quartet is this: we have four sets of data (grouped by the dataset column) of x and y values. We want to explore and compare these groups. We can do that broadly speaking in two ways: we can summarize or visualize it.\n",
    "\n",
    "# Summarize the dataset\n",
    "Let's start with summary statistics, which can be done with the describe() method from pandas. Because we're interested in comparing the four groups, we'll group the data by dataset first:"
   ]
  },
  {
   "cell_type": "code",
   "execution_count": null,
   "id": "b9e8ae24",
   "metadata": {},
   "outputs": [],
   "source": [
    "anscombe.groupby('dataset').describe()"
   ]
  },
  {
   "cell_type": "markdown",
   "id": "5806e1eb",
   "metadata": {},
   "source": [
    "Notice many differences? Probably not. It looks like these groups are very similar.\n",
    "\n",
    "Of course, these are very small samples we're talking here (n = 11 in each group), so if your data spidey sense is tingling, it's not wrong.\n",
    "\n",
    "To really blow your mind, let's visualize this data. We'll use a scatterplot to visualize the x-y relationship of each group. This can be done with the scatterplot() function from seaborn:"
   ]
  },
  {
   "cell_type": "code",
   "execution_count": null,
   "id": "11c97a6e",
   "metadata": {},
   "outputs": [],
   "source": [
    "sns.scatterplot(data=anscombe, x='x', y='y', hue='dataset')"
   ]
  },
  {
   "cell_type": "code",
   "execution_count": null,
   "id": "ba345daf",
   "metadata": {},
   "outputs": [],
   "source": [
    "# Show the results of a linear regression within each dataset\n",
    "sns.lmplot(\n",
    "    data=anscombe, x=\"x\", y=\"y\", col=\"dataset\", hue=\"dataset\",\n",
    "    col_wrap=2, palette=\"muted\", ci=None,\n",
    "    height=4, scatter_kws={\"s\": 50, \"alpha\": 1}\n",
    ")\n",
    "plt.show()"
   ]
  },
  {
   "cell_type": "code",
   "execution_count": null,
   "id": "f600450a",
   "metadata": {},
   "outputs": [],
   "source": [
    "import matplotlib.pyplot as plt\n",
    "import numpy as np\n",
    "\n",
    "x = [10, 8, 13, 9, 11, 14, 6, 4, 12, 7, 5]\n",
    "y1 = [8.04, 6.95, 7.58, 8.81, 8.33, 9.96, 7.24, 4.26, 10.84, 4.82, 5.68]\n",
    "y2 = [9.14, 8.14, 8.74, 8.77, 9.26, 8.10, 6.13, 3.10, 9.13, 7.26, 4.74]\n",
    "y3 = [7.46, 6.77, 12.74, 7.11, 7.81, 8.84, 6.08, 5.39, 8.15, 6.42, 5.73]\n",
    "x4 = [8, 8, 8, 8, 8, 8, 8, 19, 8, 8, 8]\n",
    "y4 = [6.58, 5.76, 7.71, 8.84, 8.47, 7.04, 5.25, 12.50, 5.56, 7.91, 6.89]\n",
    "\n",
    "datasets = {\n",
    "    'I': (x, y1),\n",
    "    'II': (x, y2),\n",
    "    'III': (x, y3),\n",
    "    'IV': (x4, y4)\n",
    "}\n",
    "\n",
    "fig, axs = plt.subplots(2, 2, sharex=True, sharey=True, figsize=(6, 6),\n",
    "                        gridspec_kw={'wspace': 0.08, 'hspace': 0.08})\n",
    "axs[0, 0].set(xlim=(0, 20), ylim=(2, 14))\n",
    "axs[0, 0].set(xticks=(0, 10, 20), yticks=(4, 8, 12))\n",
    "\n",
    "for ax, (label, (x, y)) in zip(axs.flat, datasets.items()):\n",
    "    ax.text(0.1, 0.9, label, fontsize=20, transform=ax.transAxes, va='top')\n",
    "    ax.tick_params(direction='in', top=True, right=True)\n",
    "    ax.plot(x, y, 'o')\n",
    "\n",
    "    # linear regression\n",
    "    p1, p0 = np.polyfit(x, y, deg=1)  # slope, intercept\n",
    "    ax.axline(xy1=(0, p0), slope=p1, color='r', lw=2)\n",
    "\n",
    "    # add text box for the statistics\n",
    "    stats = (f'$\\\\mu$ = {np.mean(y):.2f}\\n'\n",
    "             f'$\\\\sigma$ = {np.std(y):.2f}\\n'\n",
    "             f'$r$ = {np.corrcoef(x, y)[0][1]:.2f}')\n",
    "    bbox = dict(boxstyle='round', fc='blanchedalmond', ec='orange', alpha=0.5)\n",
    "    ax.text(0.95, 0.07, stats, fontsize=9, bbox=bbox,\n",
    "            transform=ax.transAxes, horizontalalignment='right')\n",
    "\n",
    "plt.show()"
   ]
  },
  {
   "cell_type": "markdown",
   "id": "389f873f",
   "metadata": {},
   "source": [
    "# Interactive Data Visualization in Python"
   ]
  },
  {
   "cell_type": "code",
   "execution_count": null,
   "id": "edd5e092",
   "metadata": {},
   "outputs": [],
   "source": [
    "from __future__ import print_function\n",
    "# Turning on notebook plots -- just for use in jupyter notebooks.\n",
    "import matplotlib\n",
    "matplotlib.use('nbagg')\n",
    "import numpy as np\n",
    "import matplotlib.pyplot as plt"
   ]
  },
  {
   "cell_type": "code",
   "execution_count": null,
   "id": "c04d4998",
   "metadata": {},
   "outputs": [],
   "source": [
    "t = np.arange(0.0, 5.0, 0.2)\n",
    "plt.plot(t, t,  t, t**2,  t, t**3)\n",
    "plt.show()"
   ]
  },
  {
   "cell_type": "code",
   "execution_count": null,
   "id": "f92b2e91",
   "metadata": {},
   "outputs": [],
   "source": [
    "import matplotlib\n",
    "print(matplotlib.__version__)\n",
    "print(matplotlib.get_backend())"
   ]
  },
  {
   "cell_type": "markdown",
   "id": "38a30f22",
   "metadata": {},
   "source": [
    "If you are working interactively at an (I)python prompt, the GUI framework is not critical (mostly aesthetic) however when working in Jupyter we need to pick a backend that integrates with Jupyter (javascript) framework.\n",
    "\n",
    "To select the backend use ``matplotlib.use(\"backend_name\")``, in this case we want ``'nbagg'``\n"
   ]
  },
  {
   "cell_type": "markdown",
   "id": "6ad6ce82",
   "metadata": {},
   "source": [
    "https://matplotlib.org/stable/users/explain/figure/backends.html#backends"
   ]
  },
  {
   "cell_type": "code",
   "execution_count": null,
   "id": "6e8c849a",
   "metadata": {},
   "outputs": [],
   "source": [
    "matplotlib.use('nbagg')\n",
    "print(matplotlib.get_backend())"
   ]
  },
  {
   "cell_type": "markdown",
   "id": "19bab8cb",
   "metadata": {},
   "source": [
    "which must be done *before* you `import matplotlib.pyplot as plt`.\n",
    "\n",
    "You can also set the backend via an 'ipython magic' ``%matplotlib backend_name``.  In addition to setting the backend, the magic also calls `plt.ion()`, which puts Matplotlib in 'interacitve mode' (the inverse is `plt.ioff()`).  In 'interactive mode' figures are shown (injected into the web page in the notebook) as soon as they are created.  Otherwise, figures are not shown until you explicitly call `plt.show()`.\n",
    "\n",
    "\n",
    "In these tutorials we will mostly work in non-interactive mode for better control of when\n",
    "figures are shown in the notebooks.\n",
    "This also better mimics the behavior you can expect in regular python scripts.\n"
   ]
  }
 ],
 "metadata": {
  "kernelspec": {
   "display_name": "Python 3 (ipykernel)",
   "language": "python",
   "name": "python3"
  },
  "language_info": {
   "codemirror_mode": {
    "name": "ipython",
    "version": 3
   },
   "file_extension": ".py",
   "mimetype": "text/x-python",
   "name": "python",
   "nbconvert_exporter": "python",
   "pygments_lexer": "ipython3",
   "version": "3.10.9"
  }
 },
 "nbformat": 4,
 "nbformat_minor": 5
}
